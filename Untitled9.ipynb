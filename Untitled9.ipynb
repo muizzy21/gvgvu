{
 "cells": [
  {
   "cell_type": "code",
   "execution_count": null,
   "id": "4922d3aa",
   "metadata": {},
   "outputs": [],
   "source": [
    "student_name = ['korede','sumbo','bimbo']"
   ]
  },
  {
   "cell_type": "code",
   "execution_count": null,
   "id": "845e3c1c",
   "metadata": {},
   "outputs": [],
   "source": [
    "student_name"
   ]
  },
  {
   "cell_type": "code",
   "execution_count": null,
   "id": "565ea5ae",
   "metadata": {},
   "outputs": [],
   "source": [
    "student=input('Enter your name')\n",
    "if student in student_name:\n",
    "    print(\"welcome\",student)\n",
    "else: \n",
    "    option=input('Would you like to add your name')\n",
    "    if option=='yes':\n",
    "             student_name.append(student)\n",
    "             print(student_name)\n",
    "    else:\n",
    "            print('You did not add your name')\n",
    "             \n",
    "     "
   ]
  },
  {
   "cell_type": "code",
   "execution_count": null,
   "id": "674a2b85",
   "metadata": {},
   "outputs": [],
   "source": [
    "while True:\n",
    "    attendee=input('Enter the name: ')\n",
    "    if attendee=='done':\n",
    "        break\n",
    "    student_name.append(attendee)  \n",
    "    print(student_name)\n",
    "   \n",
    "        \n",
    "    "
   ]
  },
  {
   "cell_type": "code",
   "execution_count": null,
   "id": "0f03a616",
   "metadata": {},
   "outputs": [],
   "source": [
    "details=[]"
   ]
  },
  {
   "cell_type": "code",
   "execution_count": null,
   "id": "d97cb12e",
   "metadata": {},
   "outputs": [],
   "source": [
    "while True:\n",
    "    name_input=input('Enter the name: ')\n",
    "    mobile_input= input('enter the mobile: ')\n",
    "    if name_input=='done'and mobile_input=='done':\n",
    "        break\n",
    "    details.append(name_input)\n",
    "    details.append(mobile_input)\n",
    "    print(details)"
   ]
  },
  {
   "cell_type": "code",
   "execution_count": 1,
   "id": "47014768",
   "metadata": {},
   "outputs": [],
   "source": [
    "info={}"
   ]
  },
  {
   "cell_type": "code",
   "execution_count": 2,
   "id": "3c5b3522",
   "metadata": {},
   "outputs": [
    {
     "name": "stdout",
     "output_type": "stream",
     "text": [
      "Enter the name: korede\n",
      "enter the mobile: 90989\n",
      "{'korede': '90989'}\n",
      "Enter the name: jsj\n",
      "enter the mobile: 98899\n",
      "{'korede': '90989', 'jsj': '98899'}\n",
      "Enter the name: done\n",
      "enter the mobile: done\n"
     ]
    }
   ],
   "source": [
    "while True:\n",
    "    name_input=input('Enter the name: ')\n",
    "    mobile_input= input('enter the mobile: ')\n",
    "    if name_input=='done'and mobile_input=='done':\n",
    "        break\n",
    "    info[name_input]=mobile_input\n",
    "    print(info)"
   ]
  },
  {
   "cell_type": "code",
   "execution_count": null,
   "id": "2a38d43d",
   "metadata": {},
   "outputs": [],
   "source": []
  },
  {
   "cell_type": "code",
   "execution_count": null,
   "id": "061eb9e0",
   "metadata": {},
   "outputs": [],
   "source": []
  }
 ],
 "metadata": {
  "kernelspec": {
   "display_name": "Python 3 (ipykernel)",
   "language": "python",
   "name": "python3"
  },
  "language_info": {
   "codemirror_mode": {
    "name": "ipython",
    "version": 3
   },
   "file_extension": ".py",
   "mimetype": "text/x-python",
   "name": "python",
   "nbconvert_exporter": "python",
   "pygments_lexer": "ipython3",
   "version": "3.9.7"
  }
 },
 "nbformat": 4,
 "nbformat_minor": 5
}
